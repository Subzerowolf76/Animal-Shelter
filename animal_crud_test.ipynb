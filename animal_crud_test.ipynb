{
 "cells": [
  {
   "cell_type": "code",
   "execution_count": 2,
   "id": "c122282b",
   "metadata": {},
   "outputs": [
    {
     "name": "stdout",
     "output_type": "stream",
     "text": [
      "[{'_id': ObjectId('6574f760d2c6a58ad557e1f3'), 'rec_num': 2182, 'age_upon_outcome': '2 months', 'animal_id': 'A702292', 'animal_type': 'Dog', 'breed': 'Labrador Retriever Mix', 'color': 'Black/White', 'date_of_birth': '2015-03-03', 'datetime': '2015-05-15 18:00:00', 'monthyear': '2015-05-15T18:00:00', 'name': 'Oreo', 'outcome_subtype': '', 'outcome_type': 'Adoption', 'sex_upon_outcome': 'Neutered Male', 'location_lat': 30.393927687048, 'location_long': -97.7376446030098, 'age_upon_outcome_in_weeks': 10.5357142857143}, {'_id': ObjectId('6574f760d2c6a58ad557e24a'), 'rec_num': 2269, 'age_upon_outcome': '3 years', 'animal_id': 'A736157', 'animal_type': 'Dog', 'breed': 'Cardigan Welsh Corgi Mix', 'color': 'White/Black', 'date_of_birth': '2013-10-05', 'datetime': '2016-10-08 13:33:00', 'monthyear': '2016-10-08T13:33:00', 'name': 'Oreo', 'outcome_subtype': '', 'outcome_type': 'Return to Owner', 'sex_upon_outcome': 'Intact Male', 'location_lat': 30.7186153991797, 'location_long': -97.4618545699341, 'age_upon_outcome_in_weeks': 157.080654761905}, {'_id': ObjectId('6574f760d2c6a58ad557e5e9'), 'rec_num': 3194, 'age_upon_outcome': '2 years', 'animal_id': 'A755721', 'animal_type': 'Cat', 'breed': 'Domestic Shorthair Mix', 'color': 'Black/White', 'date_of_birth': '2015-08-07', 'datetime': '2017-08-19 15:43:00', 'monthyear': '2017-08-19T15:43:00', 'name': 'Oreo', 'outcome_subtype': '', 'outcome_type': 'Adoption', 'sex_upon_outcome': 'Neutered Male', 'location_lat': 30.5509162182449, 'location_long': -97.5056657403726, 'age_upon_outcome_in_weeks': 106.236408730159}, {'_id': ObjectId('6574f760d2c6a58ad557ea3e'), 'rec_num': 4305, 'age_upon_outcome': '7 years', 'animal_id': 'A572792', 'animal_type': 'Dog', 'breed': 'English Springer Spaniel Mix', 'color': 'Black/White', 'date_of_birth': '2007-05-06', 'datetime': '2014-05-23 17:16:00', 'monthyear': '2014-05-23T17:16:00', 'name': 'Oreo', 'outcome_subtype': 'Partner', 'outcome_type': 'Transfer', 'sex_upon_outcome': 'Neutered Male', 'location_lat': 30.4736765596177, 'location_long': -97.6957157336918, 'age_upon_outcome_in_weeks': 367.817063492063}, {'_id': ObjectId('6574f760d2c6a58ad557ed2d'), 'rec_num': 5056, 'age_upon_outcome': '5 years', 'animal_id': 'A690409', 'animal_type': 'Dog', 'breed': 'Australian Shepherd/Border Collie', 'color': 'Black/White', 'date_of_birth': '2009-10-20', 'datetime': '2014-10-31 18:44:00', 'monthyear': '2014-10-31T18:44:00', 'name': 'Oreo', 'outcome_subtype': '', 'outcome_type': 'Return to Owner', 'sex_upon_outcome': 'Spayed Female', 'location_lat': 30.3602358216331, 'location_long': -97.3443507136686, 'age_upon_outcome_in_weeks': 262.540079365079}, {'_id': ObjectId('6574f760d2c6a58ad557ef05'), 'rec_num': 5528, 'age_upon_outcome': '3 years', 'animal_id': 'A647382', 'animal_type': 'Dog', 'breed': 'Border Collie Mix', 'color': 'Black/White', 'date_of_birth': '2010-08-09', 'datetime': '2013-10-13 15:10:00', 'monthyear': '2013-10-13T15:10:00', 'name': 'Oreo', 'outcome_subtype': '', 'outcome_type': 'Adoption', 'sex_upon_outcome': 'Spayed Female', 'location_lat': 30.4603525286908, 'location_long': -97.4067596415121, 'age_upon_outcome_in_weeks': 165.947420634921}, {'_id': ObjectId('6574f760d2c6a58ad557f1a6'), 'rec_num': 6201, 'age_upon_outcome': '10 months', 'animal_id': 'A692242', 'animal_type': 'Dog', 'breed': 'Rat Terrier/Dachshund', 'color': 'Black/White', 'date_of_birth': '2014-01-17', 'datetime': '2014-11-18 17:14:00', 'monthyear': '2014-11-18T17:14:00', 'name': 'Oreo', 'outcome_subtype': 'Partner', 'outcome_type': 'Transfer', 'sex_upon_outcome': 'Neutered Male', 'location_lat': 30.6922799164429, 'location_long': -97.7293097256981, 'age_upon_outcome_in_weeks': 43.6740079365079}, {'_id': ObjectId('6574f760d2c6a58ad557f3f1'), 'rec_num': 6807, 'age_upon_outcome': '2 months', 'animal_id': 'A717253', 'animal_type': 'Dog', 'breed': 'Border Collie Mix', 'color': 'Black/White', 'date_of_birth': '2015-10-04', 'datetime': '2015-12-07 18:12:00', 'monthyear': '2015-12-07T18:12:00', 'name': 'Oreo', 'outcome_subtype': '', 'outcome_type': 'Adoption', 'sex_upon_outcome': 'Neutered Male', 'location_lat': 30.4833363718348, 'location_long': -97.6899460527399, 'age_upon_outcome_in_weeks': 9.25119047619048}, {'_id': ObjectId('6574f760d2c6a58ad557fb40'), 'rec_num': 8662, 'age_upon_outcome': '7 months', 'animal_id': 'A765243', 'animal_type': 'Dog', 'breed': 'Beagle Mix', 'color': 'White/Tricolor', 'date_of_birth': '2017-06-15', 'datetime': '2018-01-17 16:51:00', 'monthyear': '2018-01-17T16:51:00', 'name': 'Oreo', 'outcome_subtype': 'Partner', 'outcome_type': 'Transfer', 'sex_upon_outcome': 'Intact Female', 'location_lat': 30.5481033671708, 'location_long': -97.5804651176396, 'age_upon_outcome_in_weeks': 30.9574404761905}, {'_id': ObjectId('6574f760d2c6a58ad557fbd9'), 'rec_num': 8812, 'age_upon_outcome': '9 years', 'animal_id': 'A490091', 'animal_type': 'Dog', 'breed': 'Pit Bull Mix', 'color': 'Black/White', 'date_of_birth': '2006-04-19', 'datetime': '2015-09-22 17:14:00', 'monthyear': '2015-09-22T17:14:00', 'name': 'Oreo', 'outcome_subtype': 'Suffering', 'outcome_type': 'Euthanasia', 'sex_upon_outcome': 'Spayed Female', 'location_lat': 30.6417375008799, 'location_long': -97.5560711147371, 'age_upon_outcome_in_weeks': 491.959722222222}, {'_id': ObjectId('6574f760d2c6a58ad557fbdd'), 'rec_num': 8816, 'age_upon_outcome': '2 years', 'animal_id': 'A660102', 'animal_type': 'Dog', 'breed': 'Jack Russell Terrier Mix', 'color': 'White/Black', 'date_of_birth': '2012-10-03', 'datetime': '2015-04-12 14:09:00', 'monthyear': '2015-04-12T14:09:00', 'name': 'Oreo', 'outcome_subtype': '', 'outcome_type': 'Adoption', 'sex_upon_outcome': 'Neutered Male', 'location_lat': 30.4274163108293, 'location_long': -97.526036005863, 'age_upon_outcome_in_weeks': 131.655654761905}, {'_id': ObjectId('6574f760d2c6a58ad557fccf'), 'rec_num': 9058, 'age_upon_outcome': '3 months', 'animal_id': 'A734659', 'animal_type': 'Cat', 'breed': 'Domestic Medium Hair Mix', 'color': 'Black/White', 'date_of_birth': '2016-06-02', 'datetime': '2016-09-17 17:46:00', 'monthyear': '2016-09-17T17:46:00', 'name': 'Oreo', 'outcome_subtype': '', 'outcome_type': 'Adoption', 'sex_upon_outcome': 'Neutered Male', 'location_lat': 30.6743575717763, 'location_long': -97.5831350550712, 'age_upon_outcome_in_weeks': 15.3914682539683}, {'_id': ObjectId('6574fd2e614a66c2c87ef038'), 'name': 'Oreo', 'animal_type': 'Cat', 'age_upon_outcome': 19, 'color': 'Tuxedo'}, {'_id': ObjectId('6574fd52614a66c2c87ef03a'), 'name': 'Oreo', 'animal_type': 'Cat', 'age_upon_outcome': 19, 'color': 'Tuxedo'}]\n"
     ]
    }
   ],
   "source": [
    "from animal_crud import AnimalShelter\n",
    "\n",
    "animal_shelter = AnimalShelter('devin', 'perry')\n",
    "\n",
    "new_animal_data = {\n",
    "    \"name\": \"Oreo\",\n",
    "    \"animal_type\": \"Cat\",\n",
    "    \"age_upon_outcome\": 19,\n",
    "    \"color\": \"Tuxedo\",\n",
    "}\n",
    "\n",
    "animal_shelter.create(new_animal_data)\n",
    "\n",
    "query = {\"name\": \"Oreo\"}\n",
    "result = animal_shelter.read(query)\n",
    "print(result)\n"
   ]
  },
  {
   "cell_type": "code",
   "execution_count": null,
   "id": "fb82e525",
   "metadata": {},
   "outputs": [],
   "source": []
  }
 ],
 "metadata": {
  "kernelspec": {
   "display_name": "Python 3 (ipykernel)",
   "language": "python",
   "name": "python3"
  },
  "language_info": {
   "codemirror_mode": {
    "name": "ipython",
    "version": 3
   },
   "file_extension": ".py",
   "mimetype": "text/x-python",
   "name": "python",
   "nbconvert_exporter": "python",
   "pygments_lexer": "ipython3",
   "version": "3.12.1"
  }
 },
 "nbformat": 4,
 "nbformat_minor": 5
}
